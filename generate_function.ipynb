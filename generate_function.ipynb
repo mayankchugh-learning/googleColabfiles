{
  "nbformat": 4,
  "nbformat_minor": 0,
  "metadata": {
    "colab": {
      "provenance": [],
      "authorship_tag": "ABX9TyP3kAq8vDyG6KPN3Wu1y8Xt",
      "include_colab_link": true
    },
    "kernelspec": {
      "name": "python3",
      "display_name": "Python 3"
    },
    "language_info": {
      "name": "python"
    }
  },
  "cells": [
    {
      "cell_type": "markdown",
      "metadata": {
        "id": "view-in-github",
        "colab_type": "text"
      },
      "source": [
        "<a href=\"https://colab.research.google.com/github/mayankchugh-learning/googleColabfiles/blob/main/generate_function.ipynb\" target=\"_parent\"><img src=\"https://colab.research.google.com/assets/colab-badge.svg\" alt=\"Open In Colab\"/></a>"
      ]
    },
    {
      "cell_type": "code",
      "execution_count": null,
      "metadata": {
        "colab": {
          "base_uri": "https://localhost:8080/"
        },
        "id": "kPoDFL2o0791",
        "outputId": "0ed9834c-a404-4941-96d8-98bc8dfd1359"
      },
      "outputs": [
        {
          "output_type": "execute_result",
          "data": {
            "text/plain": [
              "range(1, 10)"
            ]
          },
          "metadata": {},
          "execution_count": 1
        }
      ],
      "source": [
        "range(1,10)"
      ]
    },
    {
      "cell_type": "code",
      "source": [
        "for i in range(1,10):\n",
        "  print(i)"
      ],
      "metadata": {
        "colab": {
          "base_uri": "https://localhost:8080/"
        },
        "id": "hbOMC9Nu1Nho",
        "outputId": "c78aca38-bc8b-4af9-dffe-5490339bd5f4"
      },
      "execution_count": null,
      "outputs": [
        {
          "output_type": "stream",
          "name": "stdout",
          "text": [
            "1\n",
            "2\n",
            "3\n",
            "4\n",
            "5\n",
            "6\n",
            "7\n",
            "8\n",
            "9\n"
          ]
        }
      ]
    },
    {
      "cell_type": "code",
      "source": [
        "l = [1,2,3,4,5,6,7,8,\"chugh\",\"skills\"]"
      ],
      "metadata": {
        "id": "TLN3szqs1XTm"
      },
      "execution_count": null,
      "outputs": []
    },
    {
      "cell_type": "code",
      "source": [
        "def test1(a):\n",
        "  n = []\n",
        "  for i in a:\n",
        "    if type(i) == int :\n",
        "      n.append(i)\n",
        "  return n"
      ],
      "metadata": {
        "id": "jU3UE2Vb1gzl"
      },
      "execution_count": null,
      "outputs": []
    },
    {
      "cell_type": "code",
      "source": [
        "test1(l)"
      ],
      "metadata": {
        "colab": {
          "base_uri": "https://localhost:8080/"
        },
        "id": "I9dFUfrZ1xdO",
        "outputId": "ea71213d-1714-4efb-8800-b660ca91b932"
      },
      "execution_count": null,
      "outputs": [
        {
          "output_type": "execute_result",
          "data": {
            "text/plain": [
              "[1, 2, 3, 4, 5, 6, 7, 8]"
            ]
          },
          "metadata": {},
          "execution_count": 8
        }
      ]
    },
    {
      "cell_type": "markdown",
      "source": [
        "### Fibonacci:\n",
        "\n",
        "0,1,1,2,3,5,8,13,21,34"
      ],
      "metadata": {
        "id": "LWk4bTFo2l1W"
      }
    },
    {
      "cell_type": "code",
      "source": [
        "def test_fib(n):\n",
        "  a,b = 0,1\n",
        "  for i in range(n):\n",
        "    yield a\n",
        "    a,b = b , a+b"
      ],
      "metadata": {
        "id": "ltnUe5fN13O9"
      },
      "execution_count": null,
      "outputs": []
    },
    {
      "cell_type": "code",
      "source": [
        "test_fib(10)"
      ],
      "metadata": {
        "id": "fQmuHBYQ202L"
      },
      "execution_count": null,
      "outputs": []
    },
    {
      "cell_type": "code",
      "source": [
        "for i in test_fib(10):\n",
        "    print(i)"
      ],
      "metadata": {
        "colab": {
          "base_uri": "https://localhost:8080/"
        },
        "id": "942e1IiI4DbJ",
        "outputId": "216b177c-0222-46c2-a0b8-fd6621e4001d"
      },
      "execution_count": null,
      "outputs": [
        {
          "output_type": "stream",
          "name": "stdout",
          "text": [
            "0\n",
            "1\n",
            "1\n",
            "2\n",
            "3\n",
            "5\n",
            "8\n",
            "13\n",
            "21\n",
            "34\n"
          ]
        }
      ]
    },
    {
      "cell_type": "code",
      "source": [],
      "metadata": {
        "id": "1RaGTYdU34Ef"
      },
      "execution_count": null,
      "outputs": []
    }
  ]
}